{
 "cells": [
  {
   "cell_type": "markdown",
   "id": "b02a4516",
   "metadata": {},
   "source": [
    "#Setup and Imports:"
   ]
  },
  {
   "cell_type": "code",
   "execution_count": null,
   "id": "683a289f",
   "metadata": {
    "vscode": {
     "languageId": "plaintext"
    }
   },
   "outputs": [],
   "source": [
    "\n",
    "import torch, numpy as np, cv2, time, scipy.fftpack\n",
    "import matplotlib\n",
    "import matplotlib.pyplot as plt\n",
    "from skimage.metrics import peak_signal_noise_ratio as psnr, structural_similarity as ssim\n",
    "\n",
    "# Matplotlib plotting config for clear figures\n",
    "matplotlib.rcParams.update({\n",
    "    'font.size': 16,\n",
    "    'axes.labelsize': 20,\n",
    "    'axes.labelweight': 'bold',\n",
    "    'axes.titlesize': 20,\n",
    "    'axes.titleweight': 'bold',\n",
    "    'xtick.labelsize': 16,\n",
    "    'ytick.labelsize': 16,\n",
    "    'legend.fontsize': 18,\n",
    "    'lines.linewidth': 3,\n",
    "    'font.family': 'serif',\n",
    "    'savefig.dpi': 600,\n",
    "    'text.usetex': True,\n",
    "})\n",
    "\n",
    "# For reproducibility\n",
    "torch.manual_seed(0); np.random.seed(0)\n",
    "\n",
    "# Choose GPU if available\n",
    "device = 'cuda' if torch.cuda.is_available() else 'cpu'\n",
    "print(f\"Using device: {device}\")\n"
   ]
  },
  {
   "cell_type": "markdown",
   "id": "d0ba4649",
   "metadata": {},
   "source": [
    "#Parameters and Paths:"
   ]
  },
  {
   "cell_type": "code",
   "execution_count": null,
   "id": "7f6355df",
   "metadata": {
    "vscode": {
     "languageId": "plaintext"
    }
   },
   "outputs": [],
   "source": [
    "\n",
    "# === Edit these for your data ===\n",
    "img_path = '/home/shraddha/.dotnet/Set10C/3.png'  # Path to input image\n",
    "iterations = 2500\n",
    "gamma_init = 1.25\n",
    "lam = 0.4\n",
    "noise_std = 0 / 255.0    \n",
    "koopman_window = 30\n",
    "koopman_every = 10\n",
    "gamma_min = 0.01 * gamma_init\n",
    "kernel_size = 25\n",
    "sigma = 1.0\n",
    "channels = 3\n"
   ]
  },
  {
   "cell_type": "markdown",
   "id": "47fe754b",
   "metadata": {},
   "source": [
    "#Load Image and Preprocessing:"
   ]
  },
  {
   "cell_type": "code",
   "execution_count": null,
   "id": "cae9f333",
   "metadata": {
    "vscode": {
     "languageId": "plaintext"
    }
   },
   "outputs": [],
   "source": [
    "\n",
    "# Load color image, normalize, ensure even shape for downsampling\n",
    "img = cv2.imread(img_path, cv2.IMREAD_COLOR)\n",
    "img = cv2.cvtColor(img, cv2.COLOR_BGR2RGB)\n",
    "img = img.astype(np.float32) / 255.0\n",
    "\n",
    "H, W = img.shape[:2]\n",
    "H_even, W_even = H // 2 * 2, W // 2 * 2\n",
    "if (H_even != H) or (W_even != W):\n",
    "    print(f\"Input image shape {img.shape} is not even, cropping to ({H_even}, {W_even})\")\n",
    "    img = img[:H_even, :W_even]\n",
    "H, W = img.shape[:2]\n",
    "x_true = torch.tensor(img).permute(2,0,1).unsqueeze(0).to(device)\n",
    "img_np = img\n",
    "print(f\"Loaded image of shape: {img_np.shape}\")\n"
   ]
  },
  {
   "cell_type": "markdown",
   "id": "15391fd6",
   "metadata": {},
   "source": [
    "#Forward operator:"
   ]
  },
  {
   "cell_type": "code",
   "execution_count": null,
   "id": "8a735a55",
   "metadata": {
    "vscode": {
     "languageId": "plaintext"
    }
   },
   "outputs": [],
   "source": [
    "\n",
    "import torch.nn.functional as F\n",
    "\n",
    "def gaussian_kernel(size=15, sigma=2.0, channels=3):\n",
    "    ax = np.arange(-size // 2 + 1., size // 2 + 1.)\n",
    "    xx, yy = np.meshgrid(ax, ax)\n",
    "    kernel = np.exp(-(xx**2 + yy**2) / (2. * sigma**2))\n",
    "    kernel = kernel / np.sum(kernel)\n",
    "    kernel = torch.tensor(kernel, dtype=torch.float32)\n",
    "    kernel = kernel.expand(channels, 1, size, size)\n",
    "    return kernel\n",
    "\n",
    "kernel = gaussian_kernel(kernel_size, sigma, channels).to(device)\n",
    "\n",
    "def blur(x):\n",
    "    return F.conv2d(x, kernel, padding=kernel_size//2, groups=channels)\n",
    "def blurT(x):\n",
    "    return blur(x)\n",
    "\n",
    "def subsample2x(x):\n",
    "    return x[..., ::2, ::2]\n",
    "def subsample2x_adjoint(x, out_shape):\n",
    "    up = torch.zeros(out_shape, device=x.device, dtype=x.dtype)\n",
    "    up[..., ::2, ::2] = x\n",
    "    return up\n",
    "\n",
    "def sr_forward(x):\n",
    "    return subsample2x(blur(x))\n",
    "def sr_adjoint(y, out_shape):\n",
    "    up = subsample2x_adjoint(y, out_shape=out_shape)\n",
    "    return blurT(up)\n",
    "\n",
    "\n",
    "#Bicubic Upsampling for Initialization\n",
    "def upsample_bicubic_aligned(y_lr, scale_factor=2):\n",
    "    N, C, H, W = y_lr.shape\n",
    "    up = F.interpolate(y_lr, scale_factor=scale_factor, mode='bicubic', align_corners=True)\n",
    "    # Subpixel alignment (optional)\n",
    "    grid_y, grid_x = torch.meshgrid(\n",
    "        torch.arange(up.shape[2], dtype=up.dtype, device=up.device),\n",
    "        torch.arange(up.shape[3], dtype=up.dtype, device=up.device),\n",
    "        indexing='ij'\n",
    "    )\n",
    "    grid_y = grid_y.float() - 0.5\n",
    "    grid_x = grid_x.float() - 0.5\n",
    "    grid_y = grid_y / (up.shape[2] - 1) * 2 - 1\n",
    "    grid_x = grid_x / (up.shape[3] - 1) * 2 - 1\n",
    "    grid = torch.stack((grid_x, grid_y), dim=-1)\n",
    "    grid = grid.unsqueeze(0).repeat(N,1,1,1)\n",
    "    aligned = F.grid_sample(up, grid, mode='bilinear', padding_mode='border', align_corners=True)\n",
    "    return aligned\n"
   ]
  },
  {
   "cell_type": "markdown",
   "id": "b248c9a1",
   "metadata": {},
   "source": [
    "#Preparing measurement:"
   ]
  },
  {
   "cell_type": "code",
   "execution_count": null,
   "id": "c328c7dc",
   "metadata": {
    "vscode": {
     "languageId": "plaintext"
    }
   },
   "outputs": [],
   "source": [
    "#Loading the pretrained denoiser model from deepinv library\n",
    "from deepinv.models import DRUNet\n",
    "denoiser = DRUNet(pretrained='download', in_channels=3, out_channels=3).to(device).eval()\n",
    "sigma_tensor = torch.tensor([noise_std], device=device)\n",
    "\n",
    "###########-----------##########\n",
    "y = sr_forward(x_true)\n",
    "y_noisy = y + noise_std * torch.randn_like(y)\n",
    "y_bicubic = upsample_bicubic_aligned(y_noisy, scale_factor=2)\n",
    "y_bicubic_np = np.clip(y_bicubic[0].permute(1,2,0).detach().cpu().numpy(), 0, 1)\n",
    "psnr_measurement = psnr(img_np, y_bicubic_np, data_range=1.0)\n",
    "print(f\"PSNR of upsampled measurement: {psnr_measurement:.2f} dB\")\n",
    "plt.imshow(y_bicubic_np)\n",
    "plt.title(\"Bicubic Upsample\")\n",
    "plt.axis('off')\n",
    "plt.show()\n"
   ]
  },
  {
   "cell_type": "markdown",
   "id": "76bf66c0",
   "metadata": {},
   "source": [
    "#SKOOP-RED:"
   ]
  },
  {
   "cell_type": "code",
   "execution_count": null,
   "id": "9327ee80",
   "metadata": {
    "vscode": {
     "languageId": "plaintext"
    }
   },
   "outputs": [],
   "source": [
    "\n",
    "import numpy as np\n",
    "import scipy.fftpack\n",
    "\n",
    "def extract_koopman_features(x):\n",
    "    \"\"\"\n",
    "    Feature construction for SKOOP-RED:\n",
    "    For each channel:\n",
    "      - Global mean and std (2)\n",
    "      - 4x4 grid means (16)\n",
    "      - 2x2 DCT coefficients (4)\n",
    "    Concatenate for all channels: 22x3=66 features.\n",
    "    Input: x [1, 3, H, W] or [3, H, W] torch.Tensor\n",
    "    Returns: np.array of shape (66,)\n",
    "    \"\"\"\n",
    "    if hasattr(x, 'detach'):\n",
    "        x_np = x.detach().cpu().numpy()\n",
    "    else:\n",
    "        x_np = np.asarray(x)\n",
    "    if x_np.ndim == 4:  # [B, C, H, W]\n",
    "        x_np = x_np[0]\n",
    "    C, H, W = x_np.shape\n",
    "    features = []\n",
    "    grid_size = 4\n",
    "    cell_H = H // grid_size\n",
    "    cell_W = W // grid_size\n",
    "\n",
    "    for c in range(C):\n",
    "        ch = x_np[c]\n",
    "        # (1) Global mean and std\n",
    "        features.append(ch.mean())\n",
    "        features.append(ch.std())\n",
    "        # (2) 4x4 grid means\n",
    "        for i in range(grid_size):\n",
    "            for j in range(grid_size):\n",
    "                patch = ch[\n",
    "                    i*cell_H:(i+1)*cell_H,\n",
    "                    j*cell_W:(j+1)*cell_W\n",
    "                ]\n",
    "                features.append(patch.mean())\n",
    "        # (3) 2D DCT, top-left 2x2 block (lowest frequencies)\n",
    "        dct = scipy.fftpack.dctn(ch, norm='ortho')\n",
    "        features.extend(dct[:2, :2].flatten())\n",
    "    return np.array(features)\n",
    "\n",
    "\n",
    "def koopman_dmd(X, Y, tol=1e-6):\n",
    "    U, S, Vt = np.linalg.svd(X, full_matrices=False)\n",
    "    S_inv = np.diag([1/s if s > tol else 0 for s in S])\n",
    "    return Y @ Vt.T @ S_inv @ U.T\n",
    "\n",
    "\n",
    "\n",
    "#SKOOP-RED Main Loop\n",
    "def skoop_red(\n",
    "    y_noisy, denoiser, sr_forward, sr_adjoint, lam, gamma_init, gamma_min,\n",
    "    koopman_window, koopman_every, max_iters,\n",
    "    koopman_pred_threshold=1.05, beta=4, img_np=None\n",
    "):\n",
    "    \"\"\"\n",
    "    SKOOP-RED:\n",
    "    - Uses extract_koopman_features(x) for 66-dim vector per iterate.\n",
    "    - Shrinks gamma only if spectral radius >= koopman_pred_threshold.\n",
    "    \"\"\"\n",
    "    gamma = gamma_init\n",
    "    koopman_history = []\n",
    "    gamma_list, radius_list, psnr_list, ssim_list, norm_list = [], [], [], [], []\n",
    "    x = upsample_bicubic_aligned(y_noisy, scale_factor=2)\n",
    "    x_prev = x.clone()\n",
    "    snapshot_dict = {}\n",
    "    best_psnr = -np.inf\n",
    "    best_idx = -1\n",
    "    for k in range(max_iters):\n",
    "        Ax = sr_forward(x)\n",
    "        grad_f = sr_adjoint(Ax - y_noisy, out_shape=x.shape)\n",
    "        with torch.no_grad():\n",
    "            Dx = denoiser(x, sigma=sigma_tensor)\n",
    "        x_new = x - gamma * (grad_f + lam * (x - Dx))\n",
    "        x_new = torch.clamp(x_new, 0, 1)\n",
    "\n",
    "        # --- Koopman feature extraction  ---\n",
    "        koopman_feature = extract_koopman_features(x_new)\n",
    "        koopman_history.append(koopman_feature)\n",
    "        if len(koopman_history) > koopman_window:\n",
    "            koopman_history.pop(0)\n",
    "\n",
    "        # --- Koopman update only if enough history and at interval ---\n",
    "        radius = 0\n",
    "        if k >= koopman_window and k % koopman_every == 0:\n",
    "            Xn = np.stack(koopman_history[:-1], axis=1)  # shape (66, w-1)\n",
    "            Yn = np.stack(koopman_history[1:], axis=1)   # shape (66, w-1)\n",
    "            K = koopman_dmd(Xn, Yn)\n",
    "            eigvals = np.linalg.eigvals(K)\n",
    "            radius = np.max(np.abs(eigvals))\n",
    "            if radius >= koopman_pred_threshold:\n",
    "                eta = float(np.clip(1 - beta * (radius - 1) ** 2, 0.2, 1.0))\n",
    "                gamma = max(gamma * eta, gamma_min)\n",
    "            else:\n",
    "                gamma = max(gamma * 0.995, gamma_min)\n",
    "        else:\n",
    "            gamma = max(gamma * 0.995, gamma_min)\n",
    "        radius_list.append(radius)\n",
    "        gamma_list.append(gamma)\n",
    "\n",
    "        # --- Metrics --- #\n",
    "        x_np = np.clip(x_new[0].permute(1,2,0).detach().cpu().numpy(), 0, 1)\n",
    "        x_prev_np = np.clip(x_prev[0][0].permute(1,2,0).detach().cpu().numpy(), 0, 1) \\\n",
    "            if x_prev.ndim == 4 else np.clip(x_prev[0].permute(1,2,0).detach().cpu().numpy(), 0, 1)\n",
    "        psnr_val = psnr(img_np, x_np, data_range=1.0) if img_np is not None else 0\n",
    "        ssim_val = ssim(img_np, x_np, channel_axis=2, data_range=1.0) if img_np is not None else 0\n",
    "        psnr_list.append(psnr_val)\n",
    "        ssim_list.append(ssim_val)\n",
    "        norm_list.append(np.linalg.norm(x_np - x_prev_np))\n",
    "        if k in [9, 19, max_iters-1]:  # For illustration\n",
    "            snapshot_dict[k] = x_np\n",
    "        if psnr_val > best_psnr:\n",
    "            best_psnr = psnr_val\n",
    "            best_idx = k\n",
    "        x_prev = x.clone()\n",
    "        x = x_new.clone()\n",
    "    if best_idx not in snapshot_dict:\n",
    "        snapshot_dict[best_idx] = np.clip(x_np, 0, 1)\n",
    "    return dict(\n",
    "        psnr=psnr_list, ssim=ssim_list, gamma=gamma_list, radius=radius_list, norm=norm_list,\n",
    "        snapshots=snapshot_dict, best_idx=best_idx\n",
    "    )\n"
   ]
  },
  {
   "cell_type": "markdown",
   "id": "ac733df3",
   "metadata": {},
   "source": [
    "#Vanilla RED:"
   ]
  },
  {
   "cell_type": "code",
   "execution_count": null,
   "id": "c6fcb69c",
   "metadata": {
    "vscode": {
     "languageId": "plaintext"
    }
   },
   "outputs": [],
   "source": [
    "\n",
    "def vanilla_red(y_noisy, denoiser, sr_forward, sr_adjoint, lam, gamma, max_iters, img_np):\n",
    "    x = upsample_bicubic_aligned(y_noisy, scale_factor=2)\n",
    "    psnr_list, ssim_list, norm_list = [], [], []\n",
    "    x_prev = x.clone()\n",
    "    snapshot_dict = {}\n",
    "    best_psnr = -np.inf\n",
    "    best_idx = -1\n",
    "    for k in range(max_iters):\n",
    "        Ax = sr_forward(x)\n",
    "        grad_f = sr_adjoint(Ax - y_noisy, out_shape=x.shape)\n",
    "        with torch.no_grad():\n",
    "            Dx = denoiser(x, sigma=sigma_tensor)\n",
    "        x_new = x - gamma * (grad_f + lam * (x - Dx))\n",
    "        x_new = torch.clamp(x_new, 0, 1)\n",
    "        x_np = np.clip(x_new[0].permute(1,2,0).detach().cpu().numpy(), 0, 1)\n",
    "        x_prev_np = np.clip(x_prev[0].permute(1,2,0).detach().cpu().numpy(), 0, 1)\n",
    "        psnr_val = psnr(img_np, x_np, data_range=1.0)\n",
    "        ssim_val = ssim(img_np, x_np, channel_axis=2, data_range=1.0)\n",
    "        psnr_list.append(psnr_val)\n",
    "        ssim_list.append(ssim_val)\n",
    "        norm_list.append(np.linalg.norm(x_np - x_prev_np))\n",
    "        if k in [9, 19, max_iters-1]:\n",
    "            snapshot_dict[k] = x_np\n",
    "        if psnr_val > best_psnr:\n",
    "            best_psnr = psnr_val\n",
    "            best_idx = k\n",
    "        x_prev = x.clone()\n",
    "        x = x_new.clone()\n",
    "    if best_idx not in snapshot_dict:\n",
    "        snapshot_dict[best_idx] = x_np\n",
    "    return psnr_list, ssim_list, norm_list, x_np.copy(), snapshot_dict, best_idx\n"
   ]
  },
  {
   "cell_type": "markdown",
   "id": "a3d534df",
   "metadata": {},
   "source": [
    "#Run the experiments and plot results:"
   ]
  },
  {
   "cell_type": "code",
   "execution_count": null,
   "id": "bc079bfd",
   "metadata": {
    "vscode": {
     "languageId": "plaintext"
    }
   },
   "outputs": [],
   "source": [
    "\n",
    "start_skoop = time.time()\n",
    "skoop = skoop_red(\n",
    "    y_noisy, denoiser, sr_forward, sr_adjoint, lam, gamma_init, gamma_min,\n",
    "    koopman_window, koopman_every, iterations, beta=4, img_np=img_np\n",
    ")\n",
    "runtime_skoop = time.time() - start_skoop\n",
    "\n",
    "start_vanilla = time.time()\n",
    "van_psnr, van_ssim, van_norm, van_img, vanilla_snapshots, vanilla_peak = vanilla_red(\n",
    "    y_noisy, denoiser, sr_forward, sr_adjoint, lam, gamma_init, iterations, img_np\n",
    ")\n",
    "runtime_vanilla = time.time() - start_vanilla\n",
    "\n",
    "print(f\"Final PSNRs: Vanilla {van_psnr[-1]:.2f}, Skoop-RED {skoop['psnr'][-1]:.2f}\")\n",
    "print(f\"Final SSIMs: Vanilla {van_ssim[-1]:.4f}, Skoop-RED {skoop['ssim'][-1]:.4f}\")\n",
    "print(f\"Peak Skoop-RED PSNR at iter {skoop['best_idx']}: {max(skoop['psnr']):.2f}\")\n",
    "\n",
    "\n",
    "#Plot Results (PSNR and Residual Norm)\n",
    "fig, axs = plt.subplots(1, 2, figsize=(12,6))\n",
    "\n",
    "axs[0].plot(van_psnr, label='Vanilla-RED', color='#D55E00')\n",
    "axs[0].plot(skoop['psnr'], label=r'SKOOP-RED', color='#0072B2')\n",
    "axs[0].set_ylabel(r\"PSNR (dB)\")\n",
    "axs[0].set_xlabel(r\"iteration\")\n",
    "axs[0].grid(True)\n",
    "axs[0].legend(loc='lower right')\n",
    "\n",
    "axs[1].plot(van_norm[1:], label='Vanilla-RED', color='#D55E00')\n",
    "axs[1].plot(skoop['norm'][1:], label=r'SKOOP-RED', color='#0072B2')\n",
    "axs[1].set_ylabel(r\"$\\lVert \\boldsymbol{x}_t - \\boldsymbol{x}_{t-1} \\rVert$\")\n",
    "axs[1].set_xlabel(r\"iteration ($t$)\")\n",
    "axs[1].set_yscale('log')\n",
    "axs[1].set_ylim(1e-3, 10)\n",
    "axs[1].grid(True)\n",
    "axs[1].legend(loc='upper right')\n",
    "\n",
    "plt.tight_layout()\n",
    "plt.savefig('RED_num_SR_G.pdf')\n",
    "plt.show()\n"
   ]
  }
 ],
 "metadata": {
  "language_info": {
   "name": "python"
  }
 },
 "nbformat": 4,
 "nbformat_minor": 5
}
